{
 "cells": [
  {
   "cell_type": "code",
   "execution_count": 1,
   "metadata": {
    "id": "4VZrAuMqGM5S"
   },
   "outputs": [],
   "source": [
    "import pandas as pd\n",
    "from joblib import dump\n",
    "from sklearn.svm import SVC\n",
    "from sklearn.model_selection import train_test_split\n",
    "from sklearn.metrics import confusion_matrix\n",
    "from skl2onnx import convert_sklearn\n",
    "from skl2onnx.common.data_types import FloatTensorType"
   ]
  },
  {
   "cell_type": "code",
   "execution_count": 2,
   "metadata": {
    "colab": {
     "base_uri": "https://localhost:8080/",
     "height": 236
    },
    "id": "pOeZvH0NJcRw",
    "outputId": "c9925d85-5ff0-4182-cac0-976469c783cd"
   },
   "outputs": [
    {
     "data": {
      "text/html": [
       "<div>\n",
       "<style scoped>\n",
       "    .dataframe tbody tr th:only-of-type {\n",
       "        vertical-align: middle;\n",
       "    }\n",
       "\n",
       "    .dataframe tbody tr th {\n",
       "        vertical-align: top;\n",
       "    }\n",
       "\n",
       "    .dataframe thead th {\n",
       "        text-align: right;\n",
       "    }\n",
       "</style>\n",
       "<table border=\"1\" class=\"dataframe\">\n",
       "  <thead>\n",
       "    <tr style=\"text-align: right;\">\n",
       "      <th></th>\n",
       "      <th>Q1</th>\n",
       "      <th>Q2</th>\n",
       "      <th>Q3</th>\n",
       "      <th>Q4</th>\n",
       "      <th>Q5</th>\n",
       "      <th>Q6</th>\n",
       "      <th>Q7</th>\n",
       "      <th>Q8</th>\n",
       "      <th>Q9</th>\n",
       "      <th>Q10</th>\n",
       "      <th>...</th>\n",
       "      <th>Q46</th>\n",
       "      <th>Q47</th>\n",
       "      <th>Q48</th>\n",
       "      <th>Q49</th>\n",
       "      <th>Q50</th>\n",
       "      <th>Q51</th>\n",
       "      <th>Q52</th>\n",
       "      <th>Q53</th>\n",
       "      <th>Q54</th>\n",
       "      <th>Divorce</th>\n",
       "    </tr>\n",
       "  </thead>\n",
       "  <tbody>\n",
       "    <tr>\n",
       "      <th>0</th>\n",
       "      <td>2</td>\n",
       "      <td>2</td>\n",
       "      <td>4</td>\n",
       "      <td>1</td>\n",
       "      <td>0</td>\n",
       "      <td>0</td>\n",
       "      <td>0</td>\n",
       "      <td>0</td>\n",
       "      <td>0</td>\n",
       "      <td>0</td>\n",
       "      <td>...</td>\n",
       "      <td>2</td>\n",
       "      <td>1</td>\n",
       "      <td>3</td>\n",
       "      <td>3</td>\n",
       "      <td>3</td>\n",
       "      <td>2</td>\n",
       "      <td>3</td>\n",
       "      <td>2</td>\n",
       "      <td>1</td>\n",
       "      <td>1</td>\n",
       "    </tr>\n",
       "    <tr>\n",
       "      <th>1</th>\n",
       "      <td>4</td>\n",
       "      <td>4</td>\n",
       "      <td>4</td>\n",
       "      <td>4</td>\n",
       "      <td>4</td>\n",
       "      <td>0</td>\n",
       "      <td>0</td>\n",
       "      <td>4</td>\n",
       "      <td>4</td>\n",
       "      <td>4</td>\n",
       "      <td>...</td>\n",
       "      <td>2</td>\n",
       "      <td>2</td>\n",
       "      <td>3</td>\n",
       "      <td>4</td>\n",
       "      <td>4</td>\n",
       "      <td>4</td>\n",
       "      <td>4</td>\n",
       "      <td>2</td>\n",
       "      <td>2</td>\n",
       "      <td>1</td>\n",
       "    </tr>\n",
       "    <tr>\n",
       "      <th>2</th>\n",
       "      <td>2</td>\n",
       "      <td>2</td>\n",
       "      <td>2</td>\n",
       "      <td>2</td>\n",
       "      <td>1</td>\n",
       "      <td>3</td>\n",
       "      <td>2</td>\n",
       "      <td>1</td>\n",
       "      <td>1</td>\n",
       "      <td>2</td>\n",
       "      <td>...</td>\n",
       "      <td>3</td>\n",
       "      <td>2</td>\n",
       "      <td>3</td>\n",
       "      <td>1</td>\n",
       "      <td>1</td>\n",
       "      <td>1</td>\n",
       "      <td>2</td>\n",
       "      <td>2</td>\n",
       "      <td>2</td>\n",
       "      <td>1</td>\n",
       "    </tr>\n",
       "    <tr>\n",
       "      <th>3</th>\n",
       "      <td>3</td>\n",
       "      <td>2</td>\n",
       "      <td>3</td>\n",
       "      <td>2</td>\n",
       "      <td>3</td>\n",
       "      <td>3</td>\n",
       "      <td>3</td>\n",
       "      <td>3</td>\n",
       "      <td>3</td>\n",
       "      <td>3</td>\n",
       "      <td>...</td>\n",
       "      <td>2</td>\n",
       "      <td>2</td>\n",
       "      <td>3</td>\n",
       "      <td>3</td>\n",
       "      <td>3</td>\n",
       "      <td>3</td>\n",
       "      <td>2</td>\n",
       "      <td>2</td>\n",
       "      <td>2</td>\n",
       "      <td>1</td>\n",
       "    </tr>\n",
       "    <tr>\n",
       "      <th>4</th>\n",
       "      <td>2</td>\n",
       "      <td>2</td>\n",
       "      <td>1</td>\n",
       "      <td>1</td>\n",
       "      <td>1</td>\n",
       "      <td>1</td>\n",
       "      <td>0</td>\n",
       "      <td>0</td>\n",
       "      <td>0</td>\n",
       "      <td>0</td>\n",
       "      <td>...</td>\n",
       "      <td>2</td>\n",
       "      <td>1</td>\n",
       "      <td>2</td>\n",
       "      <td>3</td>\n",
       "      <td>2</td>\n",
       "      <td>2</td>\n",
       "      <td>2</td>\n",
       "      <td>1</td>\n",
       "      <td>0</td>\n",
       "      <td>1</td>\n",
       "    </tr>\n",
       "  </tbody>\n",
       "</table>\n",
       "<p>5 rows × 55 columns</p>\n",
       "</div>"
      ],
      "text/plain": [
       "   Q1  Q2  Q3  Q4  Q5  Q6  Q7  Q8  Q9  Q10  ...  Q46  Q47  Q48  Q49  Q50  Q51  \\\n",
       "0   2   2   4   1   0   0   0   0   0    0  ...    2    1    3    3    3    2   \n",
       "1   4   4   4   4   4   0   0   4   4    4  ...    2    2    3    4    4    4   \n",
       "2   2   2   2   2   1   3   2   1   1    2  ...    3    2    3    1    1    1   \n",
       "3   3   2   3   2   3   3   3   3   3    3  ...    2    2    3    3    3    3   \n",
       "4   2   2   1   1   1   1   0   0   0    0  ...    2    1    2    3    2    2   \n",
       "\n",
       "   Q52  Q53  Q54  Divorce  \n",
       "0    3    2    1        1  \n",
       "1    4    2    2        1  \n",
       "2    2    2    2        1  \n",
       "3    2    2    2        1  \n",
       "4    2    1    0        1  \n",
       "\n",
       "[5 rows x 55 columns]"
      ]
     },
     "execution_count": 2,
     "metadata": {},
     "output_type": "execute_result"
    }
   ],
   "source": [
    "df = pd.read_csv('divorce_data.csv', sep=';')\n",
    "df.head()"
   ]
  },
  {
   "cell_type": "code",
   "execution_count": 3,
   "metadata": {
    "colab": {
     "base_uri": "https://localhost:8080/"
    },
    "id": "9rHTdnPpKkRW",
    "outputId": "bb54f5d6-327e-4f1d-cc04-6d054dc45900"
   },
   "outputs": [
    {
     "name": "stdout",
     "output_type": "stream",
     "text": [
      "<class 'pandas.core.frame.DataFrame'>\n",
      "RangeIndex: 170 entries, 0 to 169\n",
      "Data columns (total 55 columns):\n",
      " #   Column   Non-Null Count  Dtype\n",
      "---  ------   --------------  -----\n",
      " 0   Q1       170 non-null    int64\n",
      " 1   Q2       170 non-null    int64\n",
      " 2   Q3       170 non-null    int64\n",
      " 3   Q4       170 non-null    int64\n",
      " 4   Q5       170 non-null    int64\n",
      " 5   Q6       170 non-null    int64\n",
      " 6   Q7       170 non-null    int64\n",
      " 7   Q8       170 non-null    int64\n",
      " 8   Q9       170 non-null    int64\n",
      " 9   Q10      170 non-null    int64\n",
      " 10  Q11      170 non-null    int64\n",
      " 11  Q12      170 non-null    int64\n",
      " 12  Q13      170 non-null    int64\n",
      " 13  Q14      170 non-null    int64\n",
      " 14  Q15      170 non-null    int64\n",
      " 15  Q16      170 non-null    int64\n",
      " 16  Q17      170 non-null    int64\n",
      " 17  Q18      170 non-null    int64\n",
      " 18  Q19      170 non-null    int64\n",
      " 19  Q20      170 non-null    int64\n",
      " 20  Q21      170 non-null    int64\n",
      " 21  Q22      170 non-null    int64\n",
      " 22  Q23      170 non-null    int64\n",
      " 23  Q24      170 non-null    int64\n",
      " 24  Q25      170 non-null    int64\n",
      " 25  Q26      170 non-null    int64\n",
      " 26  Q27      170 non-null    int64\n",
      " 27  Q28      170 non-null    int64\n",
      " 28  Q29      170 non-null    int64\n",
      " 29  Q30      170 non-null    int64\n",
      " 30  Q31      170 non-null    int64\n",
      " 31  Q32      170 non-null    int64\n",
      " 32  Q33      170 non-null    int64\n",
      " 33  Q34      170 non-null    int64\n",
      " 34  Q35      170 non-null    int64\n",
      " 35  Q36      170 non-null    int64\n",
      " 36  Q37      170 non-null    int64\n",
      " 37  Q38      170 non-null    int64\n",
      " 38  Q39      170 non-null    int64\n",
      " 39  Q40      170 non-null    int64\n",
      " 40  Q41      170 non-null    int64\n",
      " 41  Q42      170 non-null    int64\n",
      " 42  Q43      170 non-null    int64\n",
      " 43  Q44      170 non-null    int64\n",
      " 44  Q45      170 non-null    int64\n",
      " 45  Q46      170 non-null    int64\n",
      " 46  Q47      170 non-null    int64\n",
      " 47  Q48      170 non-null    int64\n",
      " 48  Q49      170 non-null    int64\n",
      " 49  Q50      170 non-null    int64\n",
      " 50  Q51      170 non-null    int64\n",
      " 51  Q52      170 non-null    int64\n",
      " 52  Q53      170 non-null    int64\n",
      " 53  Q54      170 non-null    int64\n",
      " 54  Divorce  170 non-null    int64\n",
      "dtypes: int64(55)\n",
      "memory usage: 73.2 KB\n"
     ]
    }
   ],
   "source": [
    "df.info()"
   ]
  },
  {
   "cell_type": "code",
   "execution_count": 4,
   "metadata": {
    "id": "w4s14IAxLmAH"
   },
   "outputs": [],
   "source": [
    "x = df.iloc[:,:-1]\n",
    "y = df.iloc[:,-1:]\n",
    "\n",
    "x_train, x_test, y_train, y_test = train_test_split(x, y, test_size=0.2, random_state=42)"
   ]
  },
  {
   "cell_type": "code",
   "execution_count": 5,
   "metadata": {
    "colab": {
     "base_uri": "https://localhost:8080/"
    },
    "id": "KIjr36C7LRCv",
    "outputId": "6230eb8f-0c3d-4a0f-f844-c9e6664be65a"
   },
   "outputs": [
    {
     "name": "stderr",
     "output_type": "stream",
     "text": [
      "C:\\Users\\canda\\anaconda3\\envs\\main\\lib\\site-packages\\sklearn\\utils\\validation.py:767: FutureWarning: is_sparse is deprecated and will be removed in a future version. Check `isinstance(dtype, pd.SparseDtype)` instead.\n",
      "  if not hasattr(array, \"sparse\") and array.dtypes.apply(is_sparse).any():\n",
      "C:\\Users\\canda\\anaconda3\\envs\\main\\lib\\site-packages\\sklearn\\utils\\validation.py:605: FutureWarning: is_sparse is deprecated and will be removed in a future version. Check `isinstance(dtype, pd.SparseDtype)` instead.\n",
      "  if is_sparse(pd_dtype):\n",
      "C:\\Users\\canda\\anaconda3\\envs\\main\\lib\\site-packages\\sklearn\\utils\\validation.py:614: FutureWarning: is_sparse is deprecated and will be removed in a future version. Check `isinstance(dtype, pd.SparseDtype)` instead.\n",
      "  if is_sparse(pd_dtype) or not is_extension_array_dtype(pd_dtype):\n",
      "C:\\Users\\canda\\anaconda3\\envs\\main\\lib\\site-packages\\sklearn\\utils\\validation.py:767: FutureWarning: is_sparse is deprecated and will be removed in a future version. Check `isinstance(dtype, pd.SparseDtype)` instead.\n",
      "  if not hasattr(array, \"sparse\") and array.dtypes.apply(is_sparse).any():\n",
      "C:\\Users\\canda\\anaconda3\\envs\\main\\lib\\site-packages\\sklearn\\utils\\validation.py:605: FutureWarning: is_sparse is deprecated and will be removed in a future version. Check `isinstance(dtype, pd.SparseDtype)` instead.\n",
      "  if is_sparse(pd_dtype):\n",
      "C:\\Users\\canda\\anaconda3\\envs\\main\\lib\\site-packages\\sklearn\\utils\\validation.py:614: FutureWarning: is_sparse is deprecated and will be removed in a future version. Check `isinstance(dtype, pd.SparseDtype)` instead.\n",
      "  if is_sparse(pd_dtype) or not is_extension_array_dtype(pd_dtype):\n",
      "C:\\Users\\canda\\anaconda3\\envs\\main\\lib\\site-packages\\sklearn\\utils\\validation.py:1143: DataConversionWarning: A column-vector y was passed when a 1d array was expected. Please change the shape of y to (n_samples, ), for example using ravel().\n",
      "  y = column_or_1d(y, warn=True)\n",
      "C:\\Users\\canda\\anaconda3\\envs\\main\\lib\\site-packages\\sklearn\\utils\\validation.py:767: FutureWarning: is_sparse is deprecated and will be removed in a future version. Check `isinstance(dtype, pd.SparseDtype)` instead.\n",
      "  if not hasattr(array, \"sparse\") and array.dtypes.apply(is_sparse).any():\n",
      "C:\\Users\\canda\\anaconda3\\envs\\main\\lib\\site-packages\\sklearn\\utils\\validation.py:605: FutureWarning: is_sparse is deprecated and will be removed in a future version. Check `isinstance(dtype, pd.SparseDtype)` instead.\n",
      "  if is_sparse(pd_dtype):\n",
      "C:\\Users\\canda\\anaconda3\\envs\\main\\lib\\site-packages\\sklearn\\utils\\validation.py:614: FutureWarning: is_sparse is deprecated and will be removed in a future version. Check `isinstance(dtype, pd.SparseDtype)` instead.\n",
      "  if is_sparse(pd_dtype) or not is_extension_array_dtype(pd_dtype):\n",
      "C:\\Users\\canda\\anaconda3\\envs\\main\\lib\\site-packages\\sklearn\\utils\\validation.py:767: FutureWarning: is_sparse is deprecated and will be removed in a future version. Check `isinstance(dtype, pd.SparseDtype)` instead.\n",
      "  if not hasattr(array, \"sparse\") and array.dtypes.apply(is_sparse).any():\n",
      "C:\\Users\\canda\\anaconda3\\envs\\main\\lib\\site-packages\\sklearn\\utils\\validation.py:605: FutureWarning: is_sparse is deprecated and will be removed in a future version. Check `isinstance(dtype, pd.SparseDtype)` instead.\n",
      "  if is_sparse(pd_dtype):\n",
      "C:\\Users\\canda\\anaconda3\\envs\\main\\lib\\site-packages\\sklearn\\utils\\validation.py:614: FutureWarning: is_sparse is deprecated and will be removed in a future version. Check `isinstance(dtype, pd.SparseDtype)` instead.\n",
      "  if is_sparse(pd_dtype) or not is_extension_array_dtype(pd_dtype):\n",
      "C:\\Users\\canda\\anaconda3\\envs\\main\\lib\\site-packages\\sklearn\\utils\\validation.py:767: FutureWarning: is_sparse is deprecated and will be removed in a future version. Check `isinstance(dtype, pd.SparseDtype)` instead.\n",
      "  if not hasattr(array, \"sparse\") and array.dtypes.apply(is_sparse).any():\n",
      "C:\\Users\\canda\\anaconda3\\envs\\main\\lib\\site-packages\\sklearn\\utils\\validation.py:605: FutureWarning: is_sparse is deprecated and will be removed in a future version. Check `isinstance(dtype, pd.SparseDtype)` instead.\n",
      "  if is_sparse(pd_dtype):\n",
      "C:\\Users\\canda\\anaconda3\\envs\\main\\lib\\site-packages\\sklearn\\utils\\validation.py:614: FutureWarning: is_sparse is deprecated and will be removed in a future version. Check `isinstance(dtype, pd.SparseDtype)` instead.\n",
      "  if is_sparse(pd_dtype) or not is_extension_array_dtype(pd_dtype):\n",
      "C:\\Users\\canda\\anaconda3\\envs\\main\\lib\\site-packages\\sklearn\\utils\\validation.py:767: FutureWarning: is_sparse is deprecated and will be removed in a future version. Check `isinstance(dtype, pd.SparseDtype)` instead.\n",
      "  if not hasattr(array, \"sparse\") and array.dtypes.apply(is_sparse).any():\n",
      "C:\\Users\\canda\\anaconda3\\envs\\main\\lib\\site-packages\\sklearn\\utils\\validation.py:605: FutureWarning: is_sparse is deprecated and will be removed in a future version. Check `isinstance(dtype, pd.SparseDtype)` instead.\n",
      "  if is_sparse(pd_dtype):\n",
      "C:\\Users\\canda\\anaconda3\\envs\\main\\lib\\site-packages\\sklearn\\utils\\validation.py:614: FutureWarning: is_sparse is deprecated and will be removed in a future version. Check `isinstance(dtype, pd.SparseDtype)` instead.\n",
      "  if is_sparse(pd_dtype) or not is_extension_array_dtype(pd_dtype):\n"
     ]
    },
    {
     "data": {
      "text/plain": [
       "array([[14,  0],\n",
       "       [ 0, 20]], dtype=int64)"
      ]
     },
     "execution_count": 5,
     "metadata": {},
     "output_type": "execute_result"
    }
   ],
   "source": [
    "classifier = SVC(kernel='rbf', degree=5, probability=True)\n",
    "classifier.fit(x_train, y_train)\n",
    "pred = classifier.predict_proba(x_test)\n",
    "pred_c = [[value[1]>=0.5] for value in pred]\n",
    "cm = confusion_matrix(y_test, pred_c)\n",
    "cm"
   ]
  },
  {
   "cell_type": "code",
   "execution_count": 6,
   "metadata": {
    "colab": {
     "base_uri": "https://localhost:8080/"
    },
    "id": "MrsC33vURtqM",
    "outputId": "1da6550f-d05f-4c09-bef8-103d7c020545"
   },
   "outputs": [
    {
     "data": {
      "text/plain": [
       "array([[0.95932894, 0.04067106],\n",
       "       [0.00743682, 0.99256318],\n",
       "       [0.97418312, 0.02581688],\n",
       "       [0.00781277, 0.99218723],\n",
       "       [0.9118708 , 0.0881292 ],\n",
       "       [0.94119862, 0.05880138],\n",
       "       [0.96815406, 0.03184594],\n",
       "       [0.00535696, 0.99464304],\n",
       "       [0.9756241 , 0.0243759 ],\n",
       "       [0.00704414, 0.99295586],\n",
       "       [0.00962773, 0.99037227],\n",
       "       [0.93024385, 0.06975615],\n",
       "       [0.97016334, 0.02983666],\n",
       "       [0.00671347, 0.99328653],\n",
       "       [0.00359066, 0.99640934],\n",
       "       [0.99082228, 0.00917772],\n",
       "       [0.01379177, 0.98620823],\n",
       "       [0.98464485, 0.01535515],\n",
       "       [0.03397013, 0.96602987],\n",
       "       [0.96266923, 0.03733077],\n",
       "       [0.00799861, 0.99200139],\n",
       "       [0.00962773, 0.99037227],\n",
       "       [0.00657708, 0.99342292],\n",
       "       [0.00894812, 0.99105188],\n",
       "       [0.01004651, 0.98995349],\n",
       "       [0.41743888, 0.58256112],\n",
       "       [0.00786305, 0.99213695],\n",
       "       [0.9695646 , 0.0304354 ],\n",
       "       [0.00741472, 0.99258528],\n",
       "       [0.00667363, 0.99332637],\n",
       "       [0.00536411, 0.99463589],\n",
       "       [0.00487977, 0.99512023],\n",
       "       [0.95406664, 0.04593336],\n",
       "       [0.98103252, 0.01896748]])"
      ]
     },
     "execution_count": 6,
     "metadata": {},
     "output_type": "execute_result"
    }
   ],
   "source": [
    "pred"
   ]
  },
  {
   "cell_type": "code",
   "execution_count": 10,
   "metadata": {},
   "outputs": [],
   "source": [
    "# model: Scikit-Learn modeliniz\n",
    "initial_type = [('float_input', FloatTensorType([None, len(x.columns)]))]\n",
    "onnx_model = convert_sklearn(classifier, initial_types=initial_type)\n",
    "\n",
    "with open(\"divorce_svc.onnx\", \"wb\") as f:\n",
    "    f.write(onnx_model.SerializeToString())"
   ]
  },
  {
   "cell_type": "code",
   "execution_count": 12,
   "metadata": {},
   "outputs": [
    {
     "data": {
      "text/plain": [
       "array([3, 1, 1, 0, 0, 0, 0, 0, 0, 0, 1, 0, 0, 1, 1, 1, 0, 0, 0, 0, 0, 0,\n",
       "       0, 0, 0, 0, 0, 0, 0, 0, 0, 0, 0, 0, 0, 0, 0, 3, 0, 0, 1, 1, 1, 0,\n",
       "       3, 3, 2, 2, 0, 2, 2, 0, 0, 4], dtype=int64)"
      ]
     },
     "execution_count": 12,
     "metadata": {},
     "output_type": "execute_result"
    }
   ],
   "source": [
    "x_test.iloc[0,:].values"
   ]
  },
  {
   "cell_type": "code",
   "execution_count": 13,
   "metadata": {},
   "outputs": [
    {
     "data": {
      "text/plain": [
       "34"
      ]
     },
     "execution_count": 13,
     "metadata": {},
     "output_type": "execute_result"
    }
   ],
   "source": [
    "len(x_test)"
   ]
  },
  {
   "cell_type": "code",
   "execution_count": null,
   "metadata": {},
   "outputs": [],
   "source": []
  }
 ],
 "metadata": {
  "colab": {
   "provenance": []
  },
  "kernelspec": {
   "display_name": "Python 3 (ipykernel)",
   "language": "python",
   "name": "python3"
  },
  "language_info": {
   "codemirror_mode": {
    "name": "ipython",
    "version": 3
   },
   "file_extension": ".py",
   "mimetype": "text/x-python",
   "name": "python",
   "nbconvert_exporter": "python",
   "pygments_lexer": "ipython3",
   "version": "3.10.13"
  }
 },
 "nbformat": 4,
 "nbformat_minor": 1
}
